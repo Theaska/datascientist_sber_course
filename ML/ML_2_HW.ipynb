{
 "cells": [
  {
   "cell_type": "code",
   "execution_count": 485,
   "metadata": {},
   "outputs": [],
   "source": [
    "from sklearn.datasets import load_boston\n",
    "import pandas as pd\n",
    "import numpy as np"
   ]
  },
  {
   "cell_type": "code",
   "execution_count": 486,
   "metadata": {},
   "outputs": [],
   "source": [
    "RANDOM_STATE = 42"
   ]
  },
  {
   "cell_type": "code",
   "execution_count": 487,
   "metadata": {},
   "outputs": [],
   "source": [
    "from warnings import simplefilter\n",
    "from sklearn.exceptions import ConvergenceWarning\n",
    "simplefilter(\"ignore\", category=ConvergenceWarning)\n",
    "simplefilter(\"ignore\", category=FutureWarning)"
   ]
  },
  {
   "cell_type": "code",
   "execution_count": 488,
   "metadata": {},
   "outputs": [],
   "source": [
    "dataset = load_boston()\n",
    "X = pd.DataFrame(dataset.data)\n",
    "X.columns = dataset.feature_names\n",
    "y = dataset.target"
   ]
  },
  {
   "cell_type": "markdown",
   "metadata": {},
   "source": [
    "1. Разделите выборку на обучающую и тестовую в отношении 80%/20%"
   ]
  },
  {
   "cell_type": "code",
   "execution_count": 489,
   "metadata": {},
   "outputs": [],
   "source": [
    "from sklearn.model_selection import train_test_split\n",
    "X_train, X_test, y_train, y_test = train_test_split(X, y, test_size=0.3, random_state=RANDOM_STATE)"
   ]
  },
  {
   "cell_type": "markdown",
   "metadata": {},
   "source": [
    "2. Обучите стандартную регрессию, а также Ridge и  Lasso и параметрами по умолчанию и выведите их R2 на тестовой выборке"
   ]
  },
  {
   "cell_type": "code",
   "execution_count": 490,
   "metadata": {},
   "outputs": [],
   "source": [
    "from sklearn.linear_model import LinearRegression, Ridge, Lasso, RidgeCV, LassoCV\n",
    "from sklearn.metrics import r2_score"
   ]
  },
  {
   "cell_type": "code",
   "execution_count": 491,
   "metadata": {},
   "outputs": [
    {
     "name": "stdout",
     "output_type": "stream",
     "text": [
      "linear regression r2 = 0.7112260057484912\n"
     ]
    }
   ],
   "source": [
    "lr = LinearRegression()\n",
    "lr.fit(X_train, y_train)\n",
    "y_linear_reg = lr.predict(X_test)\n",
    "print('linear regression r2 =', r2_score(y_test, y_linear_reg))"
   ]
  },
  {
   "cell_type": "code",
   "execution_count": 492,
   "metadata": {},
   "outputs": [
    {
     "name": "stdout",
     "output_type": "stream",
     "text": [
      "ridge r2 = 0.7041586727559435\n"
     ]
    }
   ],
   "source": [
    "ridge = Ridge()\n",
    "ridge.fit(X_train, y_train)\n",
    "y_ridge = ridge.predict(X_test)\n",
    "print('ridge r2 =', r2_score(y_test, y_ridge))"
   ]
  },
  {
   "cell_type": "code",
   "execution_count": 493,
   "metadata": {},
   "outputs": [
    {
     "name": "stdout",
     "output_type": "stream",
     "text": [
      "lasso r2 = 0.655906082915434\n"
     ]
    }
   ],
   "source": [
    "lasso = Lasso()\n",
    "lasso.fit(X_train, y_train)\n",
    "y_lasso = lasso.predict(X_test)\n",
    "print('lasso r2 =', r2_score(y_test, y_lasso))"
   ]
  },
  {
   "cell_type": "markdown",
   "metadata": {},
   "source": [
    "3. Для Ridge и Lasso подберите коэффициент регуляризации(используйте GridSearchCV, RidgeCV, LassoCV) в пределах от $10^{-5}$ до $10^5$ (по степеням 10). Посчитайте R2 на тестовой выборке по лучшим моделям и сравните с предыдущими результатами. Напишите как изменился результат"
   ]
  },
  {
   "cell_type": "code",
   "execution_count": 494,
   "metadata": {},
   "outputs": [
    {
     "name": "stdout",
     "output_type": "stream",
     "text": [
      "Best alpha: 0.01\n",
      "RidgeCV r2 = 0.7111350610032618\n",
      "\n",
      "Best alpha: 1e-05\n",
      "GridSearchCV ridge r2 = 0.7112259149897334\n"
     ]
    }
   ],
   "source": [
    "alphas = [10**a for a in range(-5, 6, 1)]\n",
    "ridge_cv = RidgeCV(alphas=alphas)\n",
    "ridge_cv.fit(X_train, y_train)\n",
    "y_ridge_cv = ridge_cv.predict(X_test)\n",
    "print('Best alpha:', ridge_cv.alpha_)\n",
    "print('RidgeCV r2 =', r2_score(y_test, y_ridge_cv))\n",
    "\n",
    "parameters = {'alpha': alphas}\n",
    "grid_ridge = GridSearchCV(ridge, parameters)\n",
    "grid_ridge.fit(X_train, y_train)\n",
    "y_grid_ridge = grid_ridge.predict(X_test)\n",
    "print('\\nBest alpha:', grid_ridge.best_params_['alpha'])\n",
    "print('GridSearchCV ridge r2 =', r2_score(y_test, y_grid_ridge))"
   ]
  },
  {
   "cell_type": "code",
   "execution_count": 495,
   "metadata": {},
   "outputs": [
    {
     "name": "stdout",
     "output_type": "stream",
     "text": [
      "Best alpha: 1e-05\n",
      "LassoCV r2 = 0.7112241989771797\n",
      "Best alpha: 1e-05\n",
      "GridSearchCV lasso r2 = 0.7112241989771797\n"
     ]
    }
   ],
   "source": [
    "lasso_cv = LassoCV(alphas=alphas)\n",
    "lasso_cv.fit(X_train, y_train)\n",
    "y_lasso_cv = lasso_cv.predict(X_test)\n",
    "print('Best alpha:', lasso_cv.alpha_)\n",
    "print('LassoCV r2 =', r2_score(y_test, y_lasso_cv))\n",
    "\n",
    "parameters = {'alpha': alphas}\n",
    "grid_lasso = GridSearchCV(lasso, parameters)\n",
    "grid_lasso.fit(X_train, y_train)\n",
    "y_grid_lasso = grid_lasso.predict(X_test)\n",
    "print('Best alpha:', grid_lasso.best_params_['alpha'])\n",
    "print('GridSearchCV lasso r2 =', r2_score(y_test, y_grid_lasso))"
   ]
  },
  {
   "cell_type": "code",
   "execution_count": 496,
   "metadata": {},
   "outputs": [],
   "source": [
    "# Для ridge немного лучше отработал GridSearchCV и улучшил результат стандартной модели Lasso на 6%.\n",
    "\n",
    "# Для lasso, и GridSearchCV, и LassoCV выбрали одинаковую альфу и дали\n",
    "# тот же результат, который оказался лучше стандартного значения альфы Lasso на 5%."
   ]
  },
  {
   "cell_type": "markdown",
   "metadata": {},
   "source": [
    "4. Проведите масштабирование выборки(используйте Pipeline, StandardScaler, MinMaxScaler), посчитайте R2 и сравните с предыдущими результатами. Напишите как изменился результат"
   ]
  },
  {
   "cell_type": "code",
   "execution_count": 497,
   "metadata": {},
   "outputs": [],
   "source": [
    "from sklearn.pipeline import Pipeline\n",
    "from sklearn.preprocessing import StandardScaler, MinMaxScaler\n",
    "pipe_sc = Pipeline([('scaler', StandardScaler())])\n",
    "pipe_min_max = Pipeline([('scaler', MinMaxScaler())])"
   ]
  },
  {
   "cell_type": "code",
   "execution_count": 498,
   "metadata": {},
   "outputs": [],
   "source": [
    "X_train_sc = pipe_sc.fit_transform(X_train)\n",
    "X_test_sc = pipe_sc.fit_transform(X_test)\n",
    "X_train_min_max = pipe_min_max.fit_transform(X_train)\n",
    "X_test_min_max = pipe_min_max.fit_transform(X_test)"
   ]
  },
  {
   "cell_type": "code",
   "execution_count": 499,
   "metadata": {},
   "outputs": [
    {
     "name": "stdout",
     "output_type": "stream",
     "text": [
      "linear regression r2 = 0.6761000049033605\n",
      "ridge r2 = 0.6757707272848222\n",
      "lasso r2 = 0.6189573403855027\n"
     ]
    }
   ],
   "source": [
    "# ~~~~~~ StandardScaler ~~~~~~~\n",
    "lr = LinearRegression()\n",
    "lr.fit(X_train_sc, y_train)\n",
    "y_linear_reg = lr.predict(X_test_sc)\n",
    "print('linear regression r2 =', r2_score(y_test, y_linear_reg))\n",
    "\n",
    "ridge = Ridge()\n",
    "ridge.fit(X_train_sc, y_train)\n",
    "y_ridge = ridge.predict(X_test_sc)\n",
    "print('ridge r2 =', r2_score(y_test, y_ridge))\n",
    "\n",
    "lasso = Lasso()\n",
    "lasso.fit(X_train_sc, y_train)\n",
    "y_lasso = lasso.predict(X_test_sc)\n",
    "print('lasso r2 =', r2_score(y_test, y_lasso))"
   ]
  },
  {
   "cell_type": "code",
   "execution_count": 500,
   "metadata": {},
   "outputs": [
    {
     "name": "stdout",
     "output_type": "stream",
     "text": [
      "linear regression r2 = 0.6975456525264927\n",
      "ridge r2 = 0.7016069171646895\n",
      "lasso r2 = 0.2535763354600139\n"
     ]
    }
   ],
   "source": [
    "# ~~~~~~ MinMaxScaler ~~~~~~~\n",
    "lr = LinearRegression()\n",
    "lr.fit(X_train_min_max, y_train)\n",
    "y_linear_reg = lr.predict(X_test_min_max)\n",
    "print('linear regression r2 =', r2_score(y_test, y_linear_reg))\n",
    "\n",
    "ridge = Ridge()\n",
    "ridge.fit(X_train_min_max, y_train)\n",
    "y_ridge = ridge.predict(X_test_min_max)\n",
    "print('ridge r2 =', r2_score(y_test, y_ridge))\n",
    "\n",
    "lasso = Lasso()\n",
    "lasso.fit(X_train_min_max, y_train)\n",
    "y_lasso = lasso.predict(X_test_min_max)\n",
    "print('lasso r2 =', r2_score(y_test, y_lasso))"
   ]
  },
  {
   "cell_type": "code",
   "execution_count": 501,
   "metadata": {},
   "outputs": [],
   "source": [
    "# По результатам видно, что масшабирование выборки дало нам ухудшение работы моделей."
   ]
  },
  {
   "cell_type": "markdown",
   "metadata": {},
   "source": [
    "5. Подберите коэффициент регуляризации для Ridge и Lasso на масштабированных данных, посчитайте R2 и сравните с предыдущими результатами. Напишите как изменился результат"
   ]
  },
  {
   "cell_type": "code",
   "execution_count": 502,
   "metadata": {},
   "outputs": [
    {
     "name": "stdout",
     "output_type": "stream",
     "text": [
      "Best alpha: 1e-05\n",
      "LassoCV r2 = 0.676099586305966\n",
      "Best alpha: 10.0\n",
      "RidgeCV r2 = 0.6730214300158306\n"
     ]
    }
   ],
   "source": [
    "# ~~~~~~ StandardScaler ~~~~~~\n",
    "lasso_cv = LassoCV(alphas=alphas)\n",
    "lasso_cv.fit(X_train_sc, y_train)\n",
    "y_lasso_cv = lasso_cv.predict(X_test_sc)\n",
    "print('Best alpha:', lasso_cv.alpha_)\n",
    "print('LassoCV r2 =', r2_score(y_test, y_lasso_cv))\n",
    "\n",
    "ridge_cv = RidgeCV(alphas=alphas)\n",
    "ridge_cv.fit(X_train_sc, y_train)\n",
    "y_ridge_cv = ridge_cv.predict(X_test_sc)\n",
    "print('Best alpha:', ridge_cv.alpha_)\n",
    "print('RidgeCV r2 =', r2_score(y_test, y_ridge_cv))"
   ]
  },
  {
   "cell_type": "code",
   "execution_count": 503,
   "metadata": {},
   "outputs": [
    {
     "name": "stdout",
     "output_type": "stream",
     "text": [
      "Best alpha: 1e-05\n",
      "LassoCV r2 = 0.6975492304020645\n",
      "Best alpha: 0.1\n",
      "RidgeCV r2 = 0.6990278205880137\n"
     ]
    }
   ],
   "source": [
    "# ---------- MinMaxScaler\n",
    "lasso_cv = LassoCV(alphas=alphas)\n",
    "lasso_cv.fit(X_train_min_max, y_train)\n",
    "y_lasso_cv = lasso_cv.predict(X_test_min_max)\n",
    "print('Best alpha:', lasso_cv.alpha_)\n",
    "print('LassoCV r2 =', r2_score(y_test, y_lasso_cv))\n",
    "\n",
    "ridge_cv = RidgeCV(alphas=alphas)\n",
    "ridge_cv.fit(X_train_min_max, y_train)\n",
    "y_ridge_cv = ridge_cv.predict(X_test_min_max)\n",
    "print('Best alpha:', ridge_cv.alpha_)\n",
    "print('RidgeCV r2 =', r2_score(y_test, y_ridge_cv))"
   ]
  },
  {
   "cell_type": "code",
   "execution_count": 504,
   "metadata": {},
   "outputs": [],
   "source": [
    "# По результатам можно увидеть, что масштабиррование ухудшило прогноз, но можно заметить, что MinMaxScaler работает лучше, чем \n",
    "# StandartScaler примерно на 2%"
   ]
  },
  {
   "cell_type": "markdown",
   "metadata": {},
   "source": [
    "6. Добавьте попарные произведения признаков и их квадраты (используйте PolynomialFeatures) на масштабированных признаках, посчитайте R2 и сравните с предыдущими результатами. Напишите как изменился результат"
   ]
  },
  {
   "cell_type": "code",
   "execution_count": 505,
   "metadata": {},
   "outputs": [],
   "source": [
    "from sklearn.preprocessing import PolynomialFeatures\n",
    "pipe_sc = Pipeline([('scaler', StandardScaler()), ('preprocessing', PolynomialFeatures())])\n",
    "pipe_min_max = Pipeline([('scaler', MinMaxScaler()), ('preprocessing', PolynomialFeatures())])"
   ]
  },
  {
   "cell_type": "code",
   "execution_count": 506,
   "metadata": {},
   "outputs": [],
   "source": [
    "X_train_sc = pipe_sc.fit_transform(X_train)\n",
    "X_test_sc = pipe_sc.fit_transform(X_test)\n",
    "X_train_min_max = pipe_min_max.fit_transform(X_train)\n",
    "X_test_min_max = pipe_min_max.fit_transform(X_test)"
   ]
  },
  {
   "cell_type": "code",
   "execution_count": 507,
   "metadata": {},
   "outputs": [
    {
     "name": "stdout",
     "output_type": "stream",
     "text": [
      "linear regression r2 = -1.3439177343227555e+24\n",
      "ridge r2 = 0.7229070506730969\n",
      "lasso r2 = 0.7448728358554388\n"
     ]
    }
   ],
   "source": [
    "# ~~~~~~ StandardScaler ~~~~~~~\n",
    "lr = LinearRegression()\n",
    "lr.fit(X_train_sc, y_train)\n",
    "y_linear_reg = lr.predict(X_test_sc)\n",
    "print('linear regression r2 =', r2_score(y_test, y_linear_reg))\n",
    "\n",
    "ridge = Ridge()\n",
    "ridge.fit(X_train_sc, y_train)\n",
    "y_ridge = ridge.predict(X_test_sc)\n",
    "print('ridge r2 =', r2_score(y_test, y_ridge))\n",
    "\n",
    "lasso = Lasso()\n",
    "lasso.fit(X_train_sc, y_train)\n",
    "y_lasso = lasso.predict(X_test_sc)\n",
    "print('lasso r2 =', r2_score(y_test, y_lasso))"
   ]
  },
  {
   "cell_type": "code",
   "execution_count": 508,
   "metadata": {},
   "outputs": [
    {
     "name": "stdout",
     "output_type": "stream",
     "text": [
      "linear regression r2 = 0.5675609165683645\n",
      "ridge r2 = 0.8189284783995134\n",
      "lasso r2 = 0.2578825732907113\n"
     ]
    }
   ],
   "source": [
    "# ~~~~~~ MinMaxScaler ~~~~~~~\n",
    "lr = LinearRegression()\n",
    "lr.fit(X_train_min_max, y_train)\n",
    "y_linear_reg = lr.predict(X_test_min_max)\n",
    "print('linear regression r2 =', r2_score(y_test, y_linear_reg))\n",
    "\n",
    "ridge = Ridge()\n",
    "ridge.fit(X_train_min_max, y_train)\n",
    "y_ridge = ridge.predict(X_test_min_max)\n",
    "print('ridge r2 =', r2_score(y_test, y_ridge))\n",
    "\n",
    "lasso = Lasso()\n",
    "lasso.fit(X_train_min_max, y_train)\n",
    "y_lasso = lasso.predict(X_test_min_max)\n",
    "print('lasso r2 =', r2_score(y_test, y_lasso))"
   ]
  },
  {
   "cell_type": "code",
   "execution_count": 509,
   "metadata": {},
   "outputs": [],
   "source": [
    "# Изучив результаты попарного произведения признаков, можно сделать вывод о том, что для обычной линейной регрессии мы получили\n",
    "# существенное ухудшение результатов, однако для ridge мы получили наиболее лучший результат, чем за все предыдущие шаги, \n",
    "# для lasso наилучшем оказалось использование стандартного масштабирования."
   ]
  },
  {
   "cell_type": "markdown",
   "metadata": {},
   "source": [
    "7. Подберите наилучшую модель (используйте Pipeline, GridSearchSCV) подбирая тип регуляризации (L1,L2), коэффициент регуляризации, метод масштабирования и степень полинома в PolynomialFeatures. Выведите итоговые параметры и результат R2. Напишите как изменился R2 по сравнению с предыдущими экспериментами"
   ]
  },
  {
   "cell_type": "code",
   "execution_count": 513,
   "metadata": {},
   "outputs": [],
   "source": [
    "def create_pipe(model_cls, scaler_cls, model_name):\n",
    "    pipe_sc = Pipeline([\n",
    "        ('scaler', scaler_cls()), \n",
    "        ('preprocessing', PolynomialFeatures()), \n",
    "        ('model', model_cls())\n",
    "    ])\n",
    "    pipe_sc.score = r2_score\n",
    "    param_grid = {'model__alpha': alphas, \n",
    "                  'preprocessing__degree': [1, 2, 3, 4]}\n",
    "    grid_search = GridSearchCV(pipe_sc, param_grid=param_grid)\n",
    "    grid_search.fit(X_train, y_train)\n",
    "\n",
    "    y_grid = grid_search.predict(X_test)\n",
    "    print(f'Best params for {model_name}: ', grid_search.best_params_)\n",
    "    print(f'{model_name} r2:', r2_score(y_test, y_grid))"
   ]
  },
  {
   "cell_type": "code",
   "execution_count": 514,
   "metadata": {},
   "outputs": [
    {
     "name": "stdout",
     "output_type": "stream",
     "text": [
      "Best params for Lasso/MinMaxScaler:  {'model__alpha': 0.001, 'preprocessing__degree': 3}\n",
      "Lasso/MinMaxScaler r2: 0.8439380295976925\n",
      "Best params for Lasso/StandardScaler:  {'model__alpha': 0.1, 'preprocessing__degree': 2}\n",
      "Lasso/StandardScaler r2: 0.8055776105496003\n",
      "Best params for Lasso/MinMaxScaler:  {'model__alpha': 0.1, 'preprocessing__degree': 4}\n",
      "Lasso/MinMaxScaler r2: 0.8352016738695145\n",
      "Best params for Lasso/StandardScaler:  {'model__alpha': 10, 'preprocessing__degree': 2}\n",
      "Lasso/StandardScaler r2: 0.8038169683868304\n"
     ]
    }
   ],
   "source": [
    "create_pipe(Lasso, MinMaxScaler, 'Lasso/MinMaxScaler')\n",
    "create_pipe(Lasso, StandardScaler, 'Lasso/StandardScaler')\n",
    "create_pipe(Ridge, MinMaxScaler, 'Lasso/MinMaxScaler')\n",
    "create_pipe(Ridge, StandardScaler, 'Lasso/StandardScaler')"
   ]
  },
  {
   "cell_type": "code",
   "execution_count": 199,
   "metadata": {},
   "outputs": [],
   "source": [
    "# Таким образом, лучшая модель - Lasso c MinMaxScaler. \n",
    "# По сравнению с исходным экспериментом (стандартной моделью Lasso) прогноз улучшился примерно на 20%."
   ]
  },
  {
   "cell_type": "markdown",
   "metadata": {},
   "source": [
    "http://archive.ics.uci.edu/ml/datasets/Adult"
   ]
  },
  {
   "cell_type": "code",
   "execution_count": 515,
   "metadata": {},
   "outputs": [],
   "source": [
    "link = 'https://raw.githubusercontent.com/jbrownlee/Datasets/master/adult-all.csv'\n",
    "data = pd.read_csv(link, header=None)"
   ]
  },
  {
   "cell_type": "code",
   "execution_count": 516,
   "metadata": {},
   "outputs": [
    {
     "data": {
      "text/html": [
       "<div>\n",
       "<style scoped>\n",
       "    .dataframe tbody tr th:only-of-type {\n",
       "        vertical-align: middle;\n",
       "    }\n",
       "\n",
       "    .dataframe tbody tr th {\n",
       "        vertical-align: top;\n",
       "    }\n",
       "\n",
       "    .dataframe thead th {\n",
       "        text-align: right;\n",
       "    }\n",
       "</style>\n",
       "<table border=\"1\" class=\"dataframe\">\n",
       "  <thead>\n",
       "    <tr style=\"text-align: right;\">\n",
       "      <th></th>\n",
       "      <th>0</th>\n",
       "      <th>1</th>\n",
       "      <th>2</th>\n",
       "      <th>3</th>\n",
       "      <th>4</th>\n",
       "      <th>5</th>\n",
       "      <th>6</th>\n",
       "      <th>7</th>\n",
       "      <th>8</th>\n",
       "      <th>9</th>\n",
       "      <th>10</th>\n",
       "      <th>11</th>\n",
       "      <th>12</th>\n",
       "      <th>13</th>\n",
       "      <th>14</th>\n",
       "    </tr>\n",
       "  </thead>\n",
       "  <tbody>\n",
       "    <tr>\n",
       "      <th>0</th>\n",
       "      <td>39</td>\n",
       "      <td>State-gov</td>\n",
       "      <td>77516</td>\n",
       "      <td>Bachelors</td>\n",
       "      <td>13</td>\n",
       "      <td>Never-married</td>\n",
       "      <td>Adm-clerical</td>\n",
       "      <td>Not-in-family</td>\n",
       "      <td>White</td>\n",
       "      <td>Male</td>\n",
       "      <td>2174</td>\n",
       "      <td>0</td>\n",
       "      <td>40</td>\n",
       "      <td>United-States</td>\n",
       "      <td>&lt;=50K</td>\n",
       "    </tr>\n",
       "    <tr>\n",
       "      <th>1</th>\n",
       "      <td>50</td>\n",
       "      <td>Self-emp-not-inc</td>\n",
       "      <td>83311</td>\n",
       "      <td>Bachelors</td>\n",
       "      <td>13</td>\n",
       "      <td>Married-civ-spouse</td>\n",
       "      <td>Exec-managerial</td>\n",
       "      <td>Husband</td>\n",
       "      <td>White</td>\n",
       "      <td>Male</td>\n",
       "      <td>0</td>\n",
       "      <td>0</td>\n",
       "      <td>13</td>\n",
       "      <td>United-States</td>\n",
       "      <td>&lt;=50K</td>\n",
       "    </tr>\n",
       "    <tr>\n",
       "      <th>2</th>\n",
       "      <td>38</td>\n",
       "      <td>Private</td>\n",
       "      <td>215646</td>\n",
       "      <td>HS-grad</td>\n",
       "      <td>9</td>\n",
       "      <td>Divorced</td>\n",
       "      <td>Handlers-cleaners</td>\n",
       "      <td>Not-in-family</td>\n",
       "      <td>White</td>\n",
       "      <td>Male</td>\n",
       "      <td>0</td>\n",
       "      <td>0</td>\n",
       "      <td>40</td>\n",
       "      <td>United-States</td>\n",
       "      <td>&lt;=50K</td>\n",
       "    </tr>\n",
       "    <tr>\n",
       "      <th>3</th>\n",
       "      <td>53</td>\n",
       "      <td>Private</td>\n",
       "      <td>234721</td>\n",
       "      <td>11th</td>\n",
       "      <td>7</td>\n",
       "      <td>Married-civ-spouse</td>\n",
       "      <td>Handlers-cleaners</td>\n",
       "      <td>Husband</td>\n",
       "      <td>Black</td>\n",
       "      <td>Male</td>\n",
       "      <td>0</td>\n",
       "      <td>0</td>\n",
       "      <td>40</td>\n",
       "      <td>United-States</td>\n",
       "      <td>&lt;=50K</td>\n",
       "    </tr>\n",
       "    <tr>\n",
       "      <th>4</th>\n",
       "      <td>28</td>\n",
       "      <td>Private</td>\n",
       "      <td>338409</td>\n",
       "      <td>Bachelors</td>\n",
       "      <td>13</td>\n",
       "      <td>Married-civ-spouse</td>\n",
       "      <td>Prof-specialty</td>\n",
       "      <td>Wife</td>\n",
       "      <td>Black</td>\n",
       "      <td>Female</td>\n",
       "      <td>0</td>\n",
       "      <td>0</td>\n",
       "      <td>40</td>\n",
       "      <td>Cuba</td>\n",
       "      <td>&lt;=50K</td>\n",
       "    </tr>\n",
       "  </tbody>\n",
       "</table>\n",
       "</div>"
      ],
      "text/plain": [
       "   0                 1       2          3   4                   5   \\\n",
       "0  39         State-gov   77516  Bachelors  13       Never-married   \n",
       "1  50  Self-emp-not-inc   83311  Bachelors  13  Married-civ-spouse   \n",
       "2  38           Private  215646    HS-grad   9            Divorced   \n",
       "3  53           Private  234721       11th   7  Married-civ-spouse   \n",
       "4  28           Private  338409  Bachelors  13  Married-civ-spouse   \n",
       "\n",
       "                  6              7      8       9     10  11  12  \\\n",
       "0       Adm-clerical  Not-in-family  White    Male  2174   0  40   \n",
       "1    Exec-managerial        Husband  White    Male     0   0  13   \n",
       "2  Handlers-cleaners  Not-in-family  White    Male     0   0  40   \n",
       "3  Handlers-cleaners        Husband  Black    Male     0   0  40   \n",
       "4     Prof-specialty           Wife  Black  Female     0   0  40   \n",
       "\n",
       "              13     14  \n",
       "0  United-States  <=50K  \n",
       "1  United-States  <=50K  \n",
       "2  United-States  <=50K  \n",
       "3  United-States  <=50K  \n",
       "4           Cuba  <=50K  "
      ]
     },
     "execution_count": 516,
     "metadata": {},
     "output_type": "execute_result"
    }
   ],
   "source": [
    "data.head()"
   ]
  },
  {
   "cell_type": "markdown",
   "metadata": {},
   "source": [
    "8. Разделите выборку на признаки и целевую переменную(колонка со зачениями {<=50K,>50K}). Замените целевую переменную на числовые значения."
   ]
  },
  {
   "cell_type": "code",
   "execution_count": 571,
   "metadata": {},
   "outputs": [],
   "source": [
    "df = data.copy()\n",
    "df[14] = df[14].map({'<=50K': 0, '>50K': 1})\n",
    "x, y = df.drop(columns=14), df[14]"
   ]
  },
  {
   "cell_type": "markdown",
   "metadata": {},
   "source": [
    "9. Выясните, присутствуют ли в данных пропуски. Заполните их самыми частыми значениями (испольуйте SimpleImputer)"
   ]
  },
  {
   "cell_type": "code",
   "execution_count": 518,
   "metadata": {},
   "outputs": [
    {
     "data": {
      "text/plain": [
       "0     0\n",
       "1     0\n",
       "2     0\n",
       "3     0\n",
       "4     0\n",
       "5     0\n",
       "6     0\n",
       "7     0\n",
       "8     0\n",
       "9     0\n",
       "10    0\n",
       "11    0\n",
       "12    0\n",
       "13    0\n",
       "14    0\n",
       "dtype: int64"
      ]
     },
     "execution_count": 518,
     "metadata": {},
     "output_type": "execute_result"
    }
   ],
   "source": [
    "df.isna().sum()"
   ]
  },
  {
   "cell_type": "markdown",
   "metadata": {},
   "source": [
    "10. Выберите колонки с числовыми и категориальными переменными."
   ]
  },
  {
   "cell_type": "code",
   "execution_count": 535,
   "metadata": {},
   "outputs": [
    {
     "name": "stdout",
     "output_type": "stream",
     "text": [
      "True\n"
     ]
    }
   ],
   "source": [
    "numeric_columns = x.select_dtypes('int64').columns\n",
    "cat_columns = x.select_dtypes('object').columns\n",
    "# проверим, что разделили все калонки на категориальные и числовые\n",
    "print(not bool(set(x.columns) - (set(numeric_columns) | set(cat_columns))))"
   ]
  },
  {
   "cell_type": "markdown",
   "metadata": {},
   "source": [
    "11. Создайте пайплайн по обработке колонок(используйте OneHotEncoder,MinMaxScaler)."
   ]
  },
  {
   "cell_type": "code",
   "execution_count": 537,
   "metadata": {},
   "outputs": [],
   "source": [
    "from sklearn.preprocessing import OneHotEncoder, MinMaxScaler\n",
    "from sklearn.compose import ColumnTransformer\n",
    "transformer = ColumnTransformer([\n",
    "    ('categorical', OneHotEncoder(), cat_columns),\n",
    "    ('numeric', MinMaxScaler(), number_columns)\n",
    "])\n",
    "pipe = Pipeline([('transformer', transformer)])\n",
    "x_pipe = pipe.fit_transform(x)"
   ]
  },
  {
   "cell_type": "markdown",
   "metadata": {},
   "source": [
    "12. Посчитайте метрики accuracy и f1_score на предсказании только самого частого класса в целевой переменной."
   ]
  },
  {
   "cell_type": "code",
   "execution_count": 538,
   "metadata": {},
   "outputs": [
    {
     "data": {
      "text/plain": [
       "array([0, 0, 0, ..., 1, 1, 1])"
      ]
     },
     "execution_count": 538,
     "metadata": {},
     "output_type": "execute_result"
    }
   ],
   "source": [
    "from sklearn.neighbors import KNeighborsClassifier\n",
    "k_neigh = KNeighborsClassifier()\n",
    "k_neigh.fit(x_pipe, y)\n",
    "y_predict = k_neigh.predict(x_pipe)\n",
    "y_predict"
   ]
  },
  {
   "cell_type": "code",
   "execution_count": 539,
   "metadata": {},
   "outputs": [
    {
     "name": "stdout",
     "output_type": "stream",
     "text": [
      "accuracy =  0.9379625891535459\n",
      "f1 score =  0.0\n"
     ]
    }
   ],
   "source": [
    "from sklearn.metrics import accuracy_score, f1_score\n",
    "# выберем в y test только самую популярную целевую переменую\n",
    "most_common_y = y.value_counts().idxmax()\n",
    "y_common = y[y == most_common_y].astype('int')\n",
    "y_predict_common = y_predict[y_common.index.tolist()]\n",
    "print('accuracy = ', accuracy_score(y_common, y_predict_common))\n",
    "print('f1 score = ', f1_score(y_common, y_predict_common))"
   ]
  },
  {
   "cell_type": "markdown",
   "metadata": {},
   "source": [
    "13. Посчитайте cross_val_score по алгоритмам LogisticRegression, SVC, LinearSVC по метрикам accuracy и f1_score.\n",
    "Напишите удалось ли превзойти предыдущий результат."
   ]
  },
  {
   "cell_type": "code",
   "execution_count": 540,
   "metadata": {},
   "outputs": [],
   "source": [
    "from sklearn.model_selection import cross_val_score\n",
    "from sklearn.linear_model import LogisticRegression\n",
    "from sklearn.svm import SVC, LinearSVC"
   ]
  },
  {
   "cell_type": "code",
   "execution_count": 541,
   "metadata": {},
   "outputs": [
    {
     "name": "stdout",
     "output_type": "stream",
     "text": [
      "[0.84847368 0.85394018 0.85067568]\n",
      "[0.65051707 0.66355405 0.65473654]\n"
     ]
    }
   ],
   "source": [
    "print(cross_val_score(LogisticRegression(), x_pipe, y, cv=3, scoring='accuracy'))\n",
    "print(cross_val_score(LogisticRegression(), x_pipe, y, cv=3, scoring='f1'))"
   ]
  },
  {
   "cell_type": "code",
   "execution_count": 542,
   "metadata": {},
   "outputs": [
    {
     "name": "stdout",
     "output_type": "stream",
     "text": [
      "[0.83545237 0.83926049 0.84287469]\n",
      "[0.60839059 0.61463702 0.62689615]\n"
     ]
    }
   ],
   "source": [
    "print(cross_val_score(SVC(), x_pipe, y, cv=3, scoring='accuracy'))\n",
    "print(cross_val_score(SVC(), x_pipe, y, cv=3, scoring='f1'))"
   ]
  },
  {
   "cell_type": "code",
   "execution_count": 543,
   "metadata": {},
   "outputs": [
    {
     "name": "stdout",
     "output_type": "stream",
     "text": [
      "[0.85086911 0.85486149 0.85288698]\n",
      "[0.65462304 0.66276581 0.65712241]\n"
     ]
    }
   ],
   "source": [
    "print(cross_val_score(LinearSVC(), x_pipe, y, cv=3, scoring='accuracy'))\n",
    "print(cross_val_score(LinearSVC(), x_pipe, y, cv=3, scoring='f1'))"
   ]
  },
  {
   "cell_type": "markdown",
   "metadata": {},
   "source": [
    "14. Можно заметить что в данных присутствуют значения '?', замените их самыми частыми значениями (испольуйте SimpleImputer)"
   ]
  },
  {
   "cell_type": "code",
   "execution_count": 544,
   "metadata": {},
   "outputs": [],
   "source": [
    "from sklearn.impute import SimpleImputer\n",
    "\n",
    "si = SimpleImputer(fill_value='?', strategy='most_frequent')\n",
    "x_si = si.fit_transform(x)\n",
    "x_si_pipe = pipe.fit_transform(x_si)"
   ]
  },
  {
   "cell_type": "markdown",
   "metadata": {},
   "source": [
    "15. Посчитайте cross_val_score на новых данных. Напишите удалось ли улучшить результат."
   ]
  },
  {
   "cell_type": "code",
   "execution_count": 545,
   "metadata": {},
   "outputs": [
    {
     "name": "stdout",
     "output_type": "stream",
     "text": [
      "[0.84847368 0.85394018 0.85067568]\n",
      "[0.65051707 0.66355405 0.65473654]\n"
     ]
    }
   ],
   "source": [
    "print(cross_val_score(LogisticRegression(), x_si_pipe, y, cv=3, scoring='accuracy'))\n",
    "print(cross_val_score(LogisticRegression(), x_si_pipe, y, cv=3, scoring='f1'))"
   ]
  },
  {
   "cell_type": "code",
   "execution_count": 546,
   "metadata": {},
   "outputs": [
    {
     "name": "stdout",
     "output_type": "stream",
     "text": [
      "[0.83545237 0.83926049 0.84287469]\n",
      "[0.60839059 0.61463702 0.62689615]\n"
     ]
    }
   ],
   "source": [
    "print(cross_val_score(SVC(), x_si_pipe, y, cv=3, scoring='accuracy'))\n",
    "print(cross_val_score(SVC(), x_si_pipe, y, cv=3, scoring='f1'))"
   ]
  },
  {
   "cell_type": "code",
   "execution_count": 547,
   "metadata": {},
   "outputs": [
    {
     "name": "stdout",
     "output_type": "stream",
     "text": [
      "[0.85086911 0.85486149 0.85288698]\n",
      "[0.65462304 0.66276581 0.65712241]\n"
     ]
    }
   ],
   "source": [
    "print(cross_val_score(LinearSVC(), x_si_pipe, y, cv=3, scoring='accuracy'))\n",
    "print(cross_val_score(LinearSVC(), x_si_pipe, y, cv=3, scoring='f1'))"
   ]
  },
  {
   "cell_type": "markdown",
   "metadata": {},
   "source": [
    "16. Посчитайте cross_val_score, если просто удалить значения '?'. Напишите как изменился результат"
   ]
  },
  {
   "cell_type": "code",
   "execution_count": 548,
   "metadata": {},
   "outputs": [],
   "source": [
    "df_prepared = df.replace('?', pd.NA).dropna()\n",
    "x_prep, y_prep = df_prepared.drop(columns=14), df_prepared[14]\n",
    "x_prep_pipe = pipe.fit_transform(x_prep)"
   ]
  },
  {
   "cell_type": "code",
   "execution_count": 549,
   "metadata": {},
   "outputs": [
    {
     "name": "stdout",
     "output_type": "stream",
     "text": [
      "[0.84297466 0.85086905 0.84549556]\n",
      "[0.65175813 0.66911981 0.65613465]\n"
     ]
    }
   ],
   "source": [
    "print(cross_val_score(LogisticRegression(), x_prep_pipe, y_prep, cv=3, scoring='accuracy'))\n",
    "print(cross_val_score(LogisticRegression(), x_prep_pipe, y_prep, cv=3, scoring='f1'))"
   ]
  },
  {
   "cell_type": "code",
   "execution_count": 550,
   "metadata": {},
   "outputs": [
    {
     "name": "stdout",
     "output_type": "stream",
     "text": [
      "[0.83056919 0.83494759 0.83726947]\n",
      "[0.6147813  0.62130898 0.63107234]\n"
     ]
    }
   ],
   "source": [
    "print(cross_val_score(SVC(), x_prep_pipe, y_prep, cv=3, scoring='accuracy'))\n",
    "print(cross_val_score(SVC(), x_prep_pipe, y_prep, cv=3, scoring='f1'))"
   ]
  },
  {
   "cell_type": "code",
   "execution_count": 551,
   "metadata": {},
   "outputs": [
    {
     "name": "stdout",
     "output_type": "stream",
     "text": [
      "[0.84589359 0.85193048 0.84748574]\n",
      "[0.65620838 0.66933333 0.65905383]\n"
     ]
    }
   ],
   "source": [
    "print(cross_val_score(LinearSVC(), x_prep_pipe, y_prep, cv=3, scoring='accuracy'))\n",
    "print(cross_val_score(LinearSVC(), x_prep_pipe, y_prep, cv=3, scoring='f1'))"
   ]
  },
  {
   "cell_type": "markdown",
   "metadata": {},
   "source": [
    " 17. Посчитайте cross_val_score для RandomForestClassifier,GradientBoostingClassifier. Напишите как изменился результат и какой вывод можно из этого сделать."
   ]
  },
  {
   "cell_type": "code",
   "execution_count": 552,
   "metadata": {},
   "outputs": [
    {
     "name": "stdout",
     "output_type": "stream",
     "text": [
      "[0.85277317 0.85535287 0.84981572]\n",
      "[0.86432037 0.86874271 0.86818182]\n"
     ]
    }
   ],
   "source": [
    "from sklearn.ensemble import RandomForestClassifier, GradientBoostingClassifier\n",
    "print(cross_val_score(RandomForestClassifier(), x_pipe, y, cv=3, scoring='accuracy'))\n",
    "print(cross_val_score(GradientBoostingClassifier(), x_pipe, y, cv=3, scoring='accuracy'))"
   ]
  },
  {
   "cell_type": "code",
   "execution_count": 615,
   "metadata": {},
   "outputs": [],
   "source": [
    "# По результатам видно, что GradientBoostingClassifier дает лучший результат."
   ]
  },
  {
   "cell_type": "markdown",
   "metadata": {},
   "source": [
    "18. Подберите наилучшую модель, подбирая методы обработки колонок - масштабирование признаков, кодирование признаков и заполнение пропусков. Параметры алгоритмов оставьте по умолчанию. Выведите итоговые параметры и результат accuracy и f1_score."
   ]
  },
  {
   "cell_type": "code",
   "execution_count": 606,
   "metadata": {},
   "outputs": [],
   "source": [
    "def make_pipeline(inputer, scaler, encoder, model, x, y):\n",
    "    transformer = ColumnTransformer([\n",
    "        ('categorical', encoder, cat_columns),\n",
    "        ('numeric', scaler, number_columns)\n",
    "    ])\n",
    "    pipe = Pipeline([('transformer', transformer)])\n",
    "    x_pipe = pipe.fit_transform(x)\n",
    "    return cross_val_score(model, x_pipe, y, scoring='accuracy')"
   ]
  },
  {
   "cell_type": "code",
   "execution_count": 607,
   "metadata": {},
   "outputs": [],
   "source": [
    "from sklearn.preprocessing import OrdinalEncoder\n",
    "result = []\n",
    "models = (RandomForestClassifier, GradientBoostingClassifier, LogisticRegression, SVC)\n",
    "inputers = ('median', 'mean', 'most_frequent')\n",
    "encoders = (OneHotEncoder, OrdinalEncoder)\n",
    "scalers = (MinMaxScaler, StandardScaler)\n",
    "for model in models:\n",
    "    for inputer in inputers:\n",
    "        for encoder in encoders:\n",
    "            for scaler in scalers:\n",
    "                acc = make_pipeline(\n",
    "                    inputer=SimpleImputer(fill_value='?', strategy=inputer),\n",
    "                    encoder=encoder(), \n",
    "                    scaler=scaler(),\n",
    "                    model=model(),\n",
    "                    x=x,\n",
    "                    y=y\n",
    "                )\n",
    "                result.append((f'{model}/{inputer}/{encoder}/{scaler}', acc, f1))"
   ]
  },
  {
   "cell_type": "code",
   "execution_count": 613,
   "metadata": {},
   "outputs": [
    {
     "data": {
      "text/plain": [
       "(\"<class 'sklearn.ensemble._gb.GradientBoostingClassifier'>/mean/<class 'sklearn.preprocessing._encoders.OrdinalEncoder'>/<class 'sklearn.preprocessing._data.MinMaxScaler'>\",\n",
       " 0.8715192465192465)"
      ]
     },
     "execution_count": 613,
     "metadata": {},
     "output_type": "execute_result"
    }
   ],
   "source": [
    "result_ = [(r[0], max(r[1])) for r in result]\n",
    "max(result_, key=lambda x: x[1])"
   ]
  },
  {
   "cell_type": "code",
   "execution_count": 614,
   "metadata": {},
   "outputs": [],
   "source": [
    "# Таким образом, запустив все модели, наилучший результат показала модель GradientBoostingClassifier с заполнением пропуском - средним\n",
    "# c OrdinalEncoder и масштабированием MinMax"
   ]
  },
  {
   "cell_type": "code",
   "execution_count": null,
   "metadata": {},
   "outputs": [],
   "source": []
  }
 ],
 "metadata": {
  "kernelspec": {
   "display_name": "Python 3 (ipykernel)",
   "language": "python",
   "name": "python3"
  },
  "language_info": {
   "codemirror_mode": {
    "name": "ipython",
    "version": 3
   },
   "file_extension": ".py",
   "mimetype": "text/x-python",
   "name": "python",
   "nbconvert_exporter": "python",
   "pygments_lexer": "ipython3",
   "version": "3.9.4"
  }
 },
 "nbformat": 4,
 "nbformat_minor": 2
}
