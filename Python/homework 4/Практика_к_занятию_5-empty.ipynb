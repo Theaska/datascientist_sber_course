{
 "cells": [
  {
   "cell_type": "markdown",
   "metadata": {
    "id": "pDrecLU-4QjS"
   },
   "source": [
    "# Практика"
   ]
  },
  {
   "cell_type": "code",
   "execution_count": 1,
   "metadata": {
    "id": "a6XFMuQUG6jO",
    "scrolled": false
   },
   "outputs": [],
   "source": [
    "import pandas as pd\n",
    "import numpy as np\n",
    "import matplotlib.pyplot as plt\n",
    "import scipy.stats as sts\n",
    "import math\n",
    "%matplotlib inline"
   ]
  },
  {
   "cell_type": "markdown",
   "metadata": {
    "id": "5owLnS0MHJnz"
   },
   "source": [
    "## ЦПТ для различных распределений\n",
    "Возьмите то непрерывное распределение, которое вам больше всего понравится из списка доступных в модуле [scipy.stats](https://docs.scipy.org/doc/scipy/reference/stats.html)."
   ]
  },
  {
   "cell_type": "markdown",
   "metadata": {
    "id": "v1IvIGF9IRgH"
   },
   "source": [
    "### Сгенерируйте примеры из распределения"
   ]
  },
  {
   "cell_type": "code",
   "execution_count": 204,
   "metadata": {
    "colab": {
     "base_uri": "https://localhost:8080/",
     "height": 377
    },
    "id": "l4oTC1NSHvl7",
    "outputId": "52df1553-6d91-4452-9ade-e2a62a8d7ff2",
    "scrolled": false
   },
   "outputs": [
    {
     "data": {
      "text/plain": [
       "array([1.19706274, 2.42401645, 1.16908914, 2.11399091, 1.57854688,\n",
       "       0.90313352, 1.74217382, 0.57755656, 1.12380711, 0.94111762,\n",
       "       1.01398103, 1.96258498, 2.46445979, 0.92847076, 2.60713091,\n",
       "       0.90695901, 1.06071395, 1.30112081, 2.28342214, 1.6721712 ,\n",
       "       1.3630383 , 2.00384508, 0.97290416, 0.92166221, 3.21838153,\n",
       "       1.46661693, 3.63245678, 1.06869855, 1.4934239 , 2.11779357,\n",
       "       0.26286772, 2.45591805, 1.45760591, 1.06768095, 2.47850397,\n",
       "       0.86904368, 1.98350076, 1.59669788, 0.76615889, 1.33301252,\n",
       "       1.66372807, 1.02612698, 2.51490213, 1.5724835 , 2.2470529 ,\n",
       "       1.03536642, 1.20140274, 1.79730252, 1.5344338 , 1.66893153,\n",
       "       0.81175993, 0.81246093, 2.65893908, 2.95822661, 0.92577642,\n",
       "       2.36941568, 1.14587828, 1.46429602, 1.21180633, 1.22880042,\n",
       "       0.41363046, 2.1783867 , 3.16378547, 1.55516885, 2.20979399,\n",
       "       1.19681219, 1.97760422, 2.16757171, 3.22204287, 0.6952503 ,\n",
       "       1.46020825, 2.02144795, 1.55629599, 1.65997629, 1.63009493,\n",
       "       1.98829869, 1.45644031, 1.59923728, 0.79686106, 0.2628687 ,\n",
       "       2.55817572, 0.55484922, 0.86388391, 0.85976602, 1.7794541 ,\n",
       "       1.55950539, 1.67601515, 0.56325411, 1.47895948, 0.65025038,\n",
       "       2.45836806, 1.50237418, 3.07473603, 0.17650845, 1.80035342,\n",
       "       1.8931011 , 1.18220908, 1.01150375, 0.25034875, 0.96754183,\n",
       "       0.68298751, 1.54837251, 1.6466032 , 1.52196149, 0.78024966,\n",
       "       1.48744351, 2.53564085, 1.04952323, 1.8071727 , 1.54805643,\n",
       "       0.29537955, 2.51561632, 1.18717835, 2.57961794, 0.44784321,\n",
       "       2.77303691, 1.20338152, 1.22567099, 1.8993681 , 2.56041417,\n",
       "       2.91495991, 3.11893829, 1.21851344, 2.49723096, 0.82860549,\n",
       "       1.02114331, 1.79585424, 1.17160385, 2.44457414, 0.9307613 ,\n",
       "       1.20564133, 1.19734781, 2.55192294, 1.3955115 , 3.18168371,\n",
       "       3.47859354, 0.56747389, 1.28912239, 1.34371121, 0.73325279,\n",
       "       1.17887264, 1.40295865, 1.20910493, 1.75825337, 1.95446229,\n",
       "       2.49745459, 1.51312347, 0.69024627, 2.62083336, 3.06651163,\n",
       "       1.41191331, 1.68273697, 1.19178569, 1.61752738, 0.63698896,\n",
       "       1.9695854 , 1.04987586, 1.89830447, 3.28500575, 1.69356492,\n",
       "       1.66793221, 0.84887589, 1.80416126, 2.46145415, 1.24023107,\n",
       "       1.58343129, 1.8362857 , 0.79482685, 1.78933035, 1.02897678,\n",
       "       0.5309118 , 1.69747841, 1.36187784, 2.64635994, 0.94184758,\n",
       "       0.51425977, 2.47958211, 1.12611853, 1.60975823, 2.69831496,\n",
       "       1.62038286, 1.23235027, 1.5919348 , 1.94480043, 1.83299105,\n",
       "       1.50597281, 1.0232282 , 1.33434282, 1.71026325, 0.7800514 ,\n",
       "       2.05258736, 3.2780325 , 0.57671257, 2.03701772, 1.53615241,\n",
       "       1.14854541, 0.85604966, 1.67170799, 2.48597216, 1.82117048,\n",
       "       2.41936983, 1.54210096, 1.96982057, 1.48258524, 0.72302607,\n",
       "       0.88206162, 1.40546587, 1.87114188, 1.04937395, 0.82440912,\n",
       "       1.47743038, 1.22015302, 1.57119818, 1.30800609, 1.93238404,\n",
       "       3.22498148, 1.85399162, 1.72771471, 1.41043086, 1.4328526 ,\n",
       "       2.90255855, 1.54845018, 0.70719577, 1.66460732, 2.57684826,\n",
       "       1.18033576, 2.15754973, 1.40679451, 1.76885124, 2.5228119 ,\n",
       "       1.71341489, 1.03567115, 0.54327553, 1.09211692, 1.23340253,\n",
       "       0.94487491, 2.7094438 , 2.39094017, 2.77327462, 1.28398881,\n",
       "       1.1357358 , 1.60236328, 2.28231192, 1.44084222, 1.77986122,\n",
       "       1.80932719, 0.75939086, 2.99305746, 1.33285213, 1.61125141,\n",
       "       2.86119098, 1.65650407, 0.92240442, 1.08982895, 1.49520767,\n",
       "       1.34205761, 1.74513992, 1.34473399, 1.50190617, 2.82528838,\n",
       "       0.69854706, 1.55627923, 1.71485747, 1.28509157, 2.69899938,\n",
       "       1.92922269, 1.57561532, 0.96140369, 2.26876077, 1.36987303,\n",
       "       1.32495989, 3.13408161, 1.25822736, 1.01951232, 2.21176471,\n",
       "       1.59131679, 1.10410184, 0.42395587, 1.95405009, 1.63142947,\n",
       "       1.558719  , 1.54969949, 0.79392698, 1.47244103, 1.70664373,\n",
       "       0.87259054, 1.01475888, 1.56020546, 2.76343867, 1.55410055,\n",
       "       1.8415678 , 1.09868969, 3.56927719, 1.64522361, 0.91303387,\n",
       "       1.25513661, 2.1031134 , 2.14415505, 2.67095604, 1.17475959,\n",
       "       0.87022211, 2.23425527, 1.41707012, 1.28127159, 1.15734511,\n",
       "       0.61143089, 1.6126081 , 1.14660618, 1.80208783, 1.17996811,\n",
       "       0.55748884, 0.96453711, 1.68264838, 1.59204011, 2.86106149,\n",
       "       1.96749923, 1.44244355, 0.87745185, 2.12941493, 1.99368365,\n",
       "       1.93290325, 3.62782531, 0.8891327 , 1.1685645 , 0.75522076,\n",
       "       1.52771288, 1.35002446, 1.09820013, 1.01849647, 3.29061898,\n",
       "       1.94020999, 1.40252916, 1.7786916 , 1.74254512, 1.04522264,\n",
       "       1.89246618, 1.61520064, 1.35396079, 2.25527688, 1.500099  ,\n",
       "       1.60402238, 0.99145372, 1.65604244, 1.51503762, 0.68559207,\n",
       "       1.01622362, 1.5904899 , 0.76344582, 1.38418072, 2.49050724,\n",
       "       1.24389354, 2.56057734, 1.0902783 , 2.29034001, 1.50331745,\n",
       "       3.06460936, 1.43694263, 0.65768775, 1.47977673, 1.40517328,\n",
       "       1.91213285, 1.50366949, 0.95134421, 0.87529224, 1.42431667,\n",
       "       1.54214097, 2.61752016, 0.68666091, 2.114711  , 0.55036613,\n",
       "       1.59643849, 2.24718023, 1.67852033, 1.87942384, 1.67232472,\n",
       "       2.49353182, 1.40533043, 2.15694202, 1.62590067, 2.88889582,\n",
       "       1.7700731 , 1.7269705 , 2.81023667, 1.45020865, 1.63051022,\n",
       "       1.18886916, 1.81062808, 2.55221745, 1.782779  , 1.63187677,\n",
       "       1.8506974 , 0.55214451, 1.46264417, 1.40933129, 1.46798403,\n",
       "       1.27804636, 2.74234425, 1.98981901, 1.83521101, 1.74824261,\n",
       "       0.69483224, 2.20064551, 1.08649253, 1.81271674, 2.80787431,\n",
       "       0.51962485, 1.83179948, 1.08467893, 0.98699106, 2.4877278 ,\n",
       "       0.9278752 , 1.25829874, 1.50136808, 1.86141178, 1.62984061,\n",
       "       2.68492702, 1.16737167, 2.49886636, 1.31636822, 1.00170955,\n",
       "       2.32300706, 1.11165489, 1.37203408, 1.46590526, 1.11753851,\n",
       "       1.49217163, 0.61132713, 1.59033202, 1.34942116, 1.18392625,\n",
       "       0.49059611, 2.33117338, 1.49294266, 0.92221046, 1.84120293,\n",
       "       1.7129404 , 2.63438405, 1.01592305, 0.89621526, 1.48335431,\n",
       "       1.29802167, 1.80001051, 1.46836982, 1.42293855, 1.6996706 ,\n",
       "       1.17901686, 1.51866195, 1.43174328, 1.8301695 , 2.12081586,\n",
       "       1.72242101, 1.1299737 , 1.00578546, 1.53354123, 1.52317583,\n",
       "       1.60772591, 0.84368853, 0.98433198, 2.7803279 , 2.19192378,\n",
       "       1.35809347, 1.29249259, 0.8235782 , 0.65932   , 1.6654445 ,\n",
       "       1.47101358, 1.65973711, 1.68613215, 1.15856123, 2.0366498 ,\n",
       "       1.33931293, 0.39109322, 1.99492122, 0.591824  , 2.14874904,\n",
       "       1.57049871, 0.97066707, 2.18752666, 0.5478153 , 1.43524054,\n",
       "       0.99814574, 0.27528674, 1.28828464, 2.39020502, 3.02687779,\n",
       "       1.54187351, 1.74318892, 2.08111773, 1.67195601, 2.26301488,\n",
       "       1.90205599, 1.45121676, 2.57435875, 1.28766275, 1.44924282,\n",
       "       2.1034733 , 1.2240536 , 0.80933758, 2.99613986, 1.43536794,\n",
       "       1.10054379, 2.55885584, 1.61775451, 1.44407583, 1.4363496 ,\n",
       "       1.74483054, 1.22796546, 2.22102254, 1.76795717, 2.01256092,\n",
       "       1.63325425, 1.56970954, 2.04805053, 0.65124722, 1.01463336,\n",
       "       2.52024914, 1.55098603, 1.40721094, 1.67291446, 1.73212502,\n",
       "       0.49005268, 1.42793328, 0.40754704, 1.48551041, 1.08900664,\n",
       "       2.03278851, 1.80995626, 3.58671023, 1.58647107, 0.4574524 ,\n",
       "       1.45355588, 2.45523899, 1.20388117, 2.22004628, 2.06717229,\n",
       "       1.60561536, 2.28916604, 2.35724461, 1.00486769, 1.19309972,\n",
       "       1.20175795, 1.36457611, 0.84525474, 1.33574665, 2.24291475,\n",
       "       1.69791547, 1.63700205, 0.87335021, 2.80001009, 2.75676178,\n",
       "       2.51749627, 2.20666936, 3.32212347, 1.84774388, 0.83684573,\n",
       "       1.72483915, 1.36720431, 1.3330613 , 2.41215246, 2.3098767 ,\n",
       "       1.68329475, 1.40922036, 0.77233389, 1.50910071, 1.36506319,\n",
       "       1.01153226, 1.22231716, 2.13633123, 1.73935441, 1.38724482,\n",
       "       1.48149222, 1.10560335, 0.72830531, 1.86238969, 1.33372841,\n",
       "       0.84026053, 2.00581061, 2.12938623, 1.00650359, 1.30503186,\n",
       "       0.80010344, 0.96068042, 2.34436307, 1.18281269, 1.26209487,\n",
       "       2.01615325, 0.97163394, 1.20275838, 1.46338155, 1.98308572,\n",
       "       1.47844296, 2.77661371, 1.84847629, 2.69004232, 2.24935399,\n",
       "       0.81482833, 0.82254883, 0.8451252 , 0.9222341 , 2.28439319,\n",
       "       1.75933699, 1.98467963, 2.63129178, 1.88550496, 1.05859472,\n",
       "       1.54084751, 0.87090464, 1.48671469, 1.69195056, 0.79770964,\n",
       "       0.21727989, 1.78168559, 1.06422195, 1.79567056, 1.35296369,\n",
       "       2.45470614, 1.94832472, 1.53654539, 2.77289279, 0.69262757,\n",
       "       2.14452128, 1.48987989, 2.04076503, 2.14846727, 1.67776755,\n",
       "       0.2698576 , 1.1106938 , 1.14483851, 1.1166142 , 1.38766422,\n",
       "       0.90374259, 0.97944422, 2.28900653, 0.76376382, 2.97429556,\n",
       "       1.57101931, 1.44021827, 2.29962061, 2.30567527, 2.36446051,\n",
       "       0.98122988, 2.18090475, 2.17586818, 1.07632874, 1.06621585,\n",
       "       1.53449288, 2.26060382, 0.71303965, 1.86537564, 1.27704771,\n",
       "       0.95542259, 1.39540971, 1.78166846, 2.76408743, 1.44029241,\n",
       "       1.83580959, 2.35014561, 0.5754014 , 2.10509152, 1.56113818,\n",
       "       1.74553385, 1.96562139, 1.27201342, 3.36423893, 1.29808753,\n",
       "       1.42959621, 1.43698623, 2.49103528, 1.37670857, 1.69646323,\n",
       "       1.8943589 , 2.09490688, 1.12365045, 1.70009799, 1.80994334,\n",
       "       1.12976323, 1.73453862, 2.36627493, 2.55669147, 1.46888104,\n",
       "       2.51618084, 2.49202552, 1.76459887, 1.09306808, 0.9425882 ,\n",
       "       1.33644201, 1.7246447 , 1.94950891, 1.21853375, 2.51975319,\n",
       "       1.68775474, 1.26670027, 0.79648346, 1.53780443, 1.1532791 ,\n",
       "       1.91171135, 1.34586544, 2.69687717, 0.34498237, 0.70607589,\n",
       "       2.35836857, 1.18465542, 0.84970377, 3.11040517, 1.91261654,\n",
       "       1.20035983, 0.9882424 , 1.35183922, 1.90518347, 0.7505743 ,\n",
       "       2.19238021, 2.29199551, 1.97470161, 1.07605886, 1.6437231 ,\n",
       "       1.57264144, 1.42770617, 1.20849217, 1.5366338 , 1.71908573,\n",
       "       1.50518626, 1.70321659, 0.85794753, 1.9883037 , 1.94568857,\n",
       "       3.05686292, 1.96680772, 0.82713628, 1.34586807, 1.91635581,\n",
       "       1.13013756, 1.84163519, 1.76095774, 2.04045946, 1.87761245,\n",
       "       1.47463608, 1.48277362, 0.68692894, 1.05907699, 0.89385883,\n",
       "       1.70899259, 1.89885399, 3.5707674 , 0.93024349, 1.24469859,\n",
       "       1.2040023 , 1.08209971, 2.19490465, 2.23597617, 1.30859872,\n",
       "       0.64354968, 0.8873289 , 1.61598039, 1.40000813, 1.12206841,\n",
       "       2.64450126, 1.34083045, 1.20181922, 1.90938666, 2.2060736 ,\n",
       "       2.49123316, 2.40392091, 0.39127326, 2.42402799, 0.25915994,\n",
       "       2.2762506 , 2.98233534, 0.86541705, 2.32398713, 1.95066324,\n",
       "       1.07941064, 2.0680019 , 0.73962185, 2.3776527 , 2.16747035,\n",
       "       0.90232884, 1.50708197, 1.08324801, 1.63316223, 1.0883904 ,\n",
       "       0.84170257, 2.0197296 , 1.74237374, 1.53962529, 1.41268767,\n",
       "       1.38299215, 1.18290002, 0.88504512, 2.8081992 , 3.00191268,\n",
       "       3.02549242, 0.94250806, 1.85091357, 1.52350273, 0.54373775,\n",
       "       0.98913706, 1.93929357, 0.44557469, 1.98698967, 1.24207054,\n",
       "       0.51932236, 0.9157078 , 2.20735488, 2.61377683, 1.49463215,\n",
       "       2.68912864, 1.40043395, 1.88315201, 1.05119174, 2.28064864,\n",
       "       1.59623572, 1.29125122, 1.14359844, 0.25651442, 1.95880466,\n",
       "       3.72507402, 1.47875206, 2.01333091, 1.49163123, 1.58343517,\n",
       "       1.46718092, 1.58696272, 3.41779691, 1.19272727, 0.80727883,\n",
       "       1.96454888, 1.97194465, 2.82339572, 1.52253194, 0.32274978,\n",
       "       0.53553723, 1.92155197, 0.92897281, 0.93564648, 0.65387299,\n",
       "       2.80761079, 1.29549424, 2.04561648, 3.05152329, 1.80427071,\n",
       "       2.40318907, 1.98500618, 1.55603952, 0.6862534 , 2.40468116,\n",
       "       1.70464154, 0.77949332, 1.36830641, 2.46615555, 1.06672704,\n",
       "       2.07620216, 1.07548656, 2.87629854, 0.6854251 , 2.07469735,\n",
       "       1.49329515, 1.2304432 , 0.63244779, 1.54997378, 1.22111809,\n",
       "       2.0847752 , 1.99475451, 0.82342792, 1.29438254, 1.8269405 ,\n",
       "       1.03413591, 1.07403533, 3.94003838, 0.94071054, 1.95108597,\n",
       "       2.31429241, 0.94855954, 0.50466627, 1.24860375, 1.29503209,\n",
       "       1.02807661, 2.52993268, 2.63197131, 1.11224447, 0.95986554,\n",
       "       0.50502041, 1.99977599, 0.66936937, 1.27715087, 1.59934661,\n",
       "       1.89055978, 1.40072366, 1.78593584, 0.50482764, 1.36933638,\n",
       "       0.80378031, 2.21566764, 1.82384185, 2.5939132 , 2.23785055,\n",
       "       0.74760991, 1.5128506 , 2.37299378, 1.14661245, 2.5081797 ,\n",
       "       0.58314966, 1.87433425, 2.36209334, 1.82500608, 1.39263011,\n",
       "       0.75343326, 1.65761185, 1.41724258, 2.39392912, 0.91599624,\n",
       "       1.22458327, 1.9834035 , 2.72013714, 1.64517048, 2.82827233,\n",
       "       2.06230244, 1.48679395, 1.79547528, 0.73801383, 2.13846529,\n",
       "       0.7988312 , 1.96284225, 0.98706962, 0.46971135, 2.1208187 ,\n",
       "       1.89121048, 1.68976754, 2.22024075, 0.81780804, 0.72914309,\n",
       "       2.30738588, 1.3886123 , 0.85717724, 1.88307704, 2.03302359,\n",
       "       0.81901278, 1.60232037, 1.32134831, 1.7206171 , 2.17819674,\n",
       "       1.60097918, 1.39772631, 1.26637207, 1.87750365, 3.35165768,\n",
       "       2.47243597, 0.56171193, 1.31092921, 1.42312974, 3.39740881,\n",
       "       1.78817324, 1.47105205, 1.40453795, 2.37912404, 2.51625862,\n",
       "       1.50320776, 1.38844887, 0.58653604, 0.51256915, 2.20595428,\n",
       "       1.07355309, 2.23290252, 2.2139851 , 1.08687781, 1.23792545,\n",
       "       0.57691091, 2.28125021, 1.55128018, 2.01532034, 2.24863734,\n",
       "       1.99714135, 1.27279579, 0.93006888, 1.58447515, 1.73958101,\n",
       "       1.08145422, 1.07218878, 1.44196452, 1.37709561, 1.65058365,\n",
       "       3.4463499 , 1.9010068 , 0.50896745, 1.6277747 , 1.70280463,\n",
       "       1.26629182, 2.98631761, 1.51535968, 1.80507731, 1.69070619,\n",
       "       1.62258521, 0.65364987, 0.969727  , 1.70728111, 1.82938121,\n",
       "       1.71728426, 1.60597923, 1.32112782, 1.16210465, 1.67013823])"
      ]
     },
     "execution_count": 204,
     "metadata": {},
     "output_type": "execute_result"
    }
   ],
   "source": [
    "# ваш код тут\n",
    "# например вот такое распределение https://docs.scipy.org/doc/scipy/reference/generated/scipy.stats.cosine.html#scipy.stats.cosine\n",
    "\n",
    "# возьмем распределение maxwell: https://docs.scipy.org/doc/scipy/reference/generated/scipy.stats.maxwell.html#scipy.stats.maxwell\n",
    "maxwell_rv = sts.maxwell()\n",
    "sample = maxwell_rv.rvs(1000)\n",
    "sample"
   ]
  },
  {
   "cell_type": "code",
   "execution_count": 205,
   "metadata": {
    "colab": {
     "base_uri": "https://localhost:8080/",
     "height": 35
    },
    "id": "ScsjsI4oXgKR",
    "outputId": "86833794-f43b-436e-a0e4-c3b7483df016",
    "scrolled": false
   },
   "outputs": [
    {
     "data": {
      "text/plain": [
       "dtype('float64')"
      ]
     },
     "execution_count": 205,
     "metadata": {},
     "output_type": "execute_result"
    }
   ],
   "source": [
    "sample.dtype"
   ]
  },
  {
   "cell_type": "code",
   "execution_count": 206,
   "metadata": {
    "id": "pXTNSqAOCYX4",
    "scrolled": false
   },
   "outputs": [
    {
     "data": {
      "text/plain": [
       "1.5957691216057308"
      ]
     },
     "execution_count": 206,
     "metadata": {},
     "output_type": "execute_result"
    }
   ],
   "source": [
    "real_mean = maxwell_rv.mean() # настоящее среднее случайной величины\n",
    "real_mean"
   ]
  },
  {
   "cell_type": "code",
   "execution_count": 207,
   "metadata": {
    "id": "5x4hFKaUCWSY",
    "scrolled": false
   },
   "outputs": [
    {
     "data": {
      "text/plain": [
       "0.45352091052967447"
      ]
     },
     "execution_count": 207,
     "metadata": {},
     "output_type": "execute_result"
    }
   ],
   "source": [
    "real_var = maxwell_rv.var() # настоящая дисперсия случайной величины\n",
    "real_var"
   ]
  },
  {
   "cell_type": "markdown",
   "metadata": {
    "id": "4bNn15giIX77"
   },
   "source": [
    "### Постройте гистограмму выборки и теоретическую плотность распределения"
   ]
  },
  {
   "cell_type": "code",
   "execution_count": 208,
   "metadata": {
    "colab": {
     "base_uri": "https://localhost:8080/",
     "height": 283
    },
    "id": "CwbvqecvIcXN",
    "outputId": "ace01d5d-2552-499b-bc4f-1eb19166af83",
    "scrolled": false
   },
   "outputs": [
    {
     "data": {
      "text/plain": [
       "<matplotlib.legend.Legend at 0x2888e1790>"
      ]
     },
     "execution_count": 208,
     "metadata": {},
     "output_type": "execute_result"
    },
    {
     "data": {
      "image/png": "[encoded data removed]",
      "text/plain": [
       "<Figure size 432x288 with 1 Axes>"
      ]
     },
     "metadata": {
      "needs_background": "light"
     },
     "output_type": "display_data"
    }
   ],
   "source": [
    "# ваш код тут\n",
    "plt.hist(sample, density=True)\n",
    "x = np.linspace(0,4,100)\n",
    "pdf = maxwell_rv.pdf(x)\n",
    "plt.plot(x, pdf, label='теоретическая плотность', alpha=0.5)\n",
    "plt.legend()"
   ]
  },
  {
   "cell_type": "code",
   "execution_count": 209,
   "metadata": {
    "colab": {
     "base_uri": "https://localhost:8080/",
     "height": 51
    },
    "id": "rKd5XFelBqe7",
    "outputId": "32773b82-a3e9-46a2-b06d-a94d667d4f66",
    "scrolled": false
   },
   "outputs": [
    {
     "data": {
      "text/plain": [
       "(1.6010412990257579, 0.4429053016718685)"
      ]
     },
     "execution_count": 209,
     "metadata": {},
     "output_type": "execute_result"
    }
   ],
   "source": [
    "sample_mean = sample.mean() # выборочное среднее\n",
    "sample_var = sample.var() # выборочная дисперсия\n",
    "sample_mean, sample_var"
   ]
  },
  {
   "cell_type": "markdown",
   "metadata": {
    "id": "qPuHR68NId_Z"
   },
   "source": [
    "### Оценим распределение выборочного среднего для разных объёмов выборок\n",
    "Для этого постройте на одном полотне гистограмму выборочных средних и теоретическое распределение выборочных средних по ЦПТ для разных объёмов выборок.\n",
    "\n",
    "Для теоретического распределение используйте настоящие значения мат ожидания и дисперсии (не приближенные на основе выборки)."
   ]
  },
  {
   "cell_type": "code",
   "execution_count": 215,
   "metadata": {
    "id": "_mB8upK7J58w",
    "scrolled": false
   },
   "outputs": [
    {
     "data": {
      "image/png": "[encoded data removed]",
      "text/plain": [
       "<Figure size 1440x1440 with 4 Axes>"
      ]
     },
     "metadata": {
      "needs_background": "light"
     },
     "output_type": "display_data"
    }
   ],
   "source": [
    "fig, ((ax1, ax2), (ax3, ax4)) = plt.subplots(2, 2) \n",
    "\n",
    "fig.set_size_inches(20, 20)\n",
    "# сгенерируем много выборочных средних\n",
    "for N, ax in zip([10, 100, 1000, 10000], [ax1, ax2, ax3, ax4]):\n",
    "    means = []\n",
    "    for i in range(1000):\n",
    "         means.append(np.mean(maxwell_rv.rvs(N)))\n",
    "    ax.hist(means, density=True, alpha=0.5)\n",
    "    \n",
    "    # теоретическое распределение выборочных средних по цпт\n",
    "    norm_rv = sts.norm(loc=maxwell_rv.mean(), scale=maxwell_rv.var() / np.sqrt(N))\n",
    "    x = np.linspace(min(means), max(means), 1000)\n",
    "    pdf = norm_rv.pdf(x)\n",
    "    ax.plot(x, pdf, alpha=0.5)\n",
    "    ax.set_title(f'Выборочное среднее и теоретическое для N={N}')\n",
    "    ax.legend([\"Теоретическое распределение выборочных средних\", \"Выборочное среднее\"])\n",
    "    \n",
    "plt.show()"
   ]
  },
  {
   "cell_type": "markdown",
   "metadata": {
    "id": "TF1onBy_J7sX"
   },
   "source": [
    "Как вы считаете, для выбранного распределения апроксимация распределения выборочного среднего работает хорошо или плохо?\n",
    "**Ваш ответ:**"
   ]
  },
  {
   "cell_type": "code",
   "execution_count": 9,
   "metadata": {
    "id": "1BEsK495KIuM",
    "scrolled": false
   },
   "outputs": [],
   "source": [
    "# Если взглянуть на гистограмму, то можно увидеть, что аппроксимация распределения выборочного среднего по ЦПТ maxwell работает, хоть и не совсем точно"
   ]
  },
  {
   "cell_type": "markdown",
   "metadata": {
    "id": "xEyWxfjSfxGp"
   },
   "source": [
    "## Доверительный интервал на основе ЦПТ\n",
    "Возьмите данные для оттока телеком компании, и постройте доверительные интервалы для среднего значения total day calls, используя центральную предельную теорему в разбиении по колонке churn (ушел/не ушел). \n",
    "\n",
    "Для оценки дисперсии используйте несмещенную оценку (параметр ddof=1).\n",
    "\n",
    "Сделайте оценку с использованием явной формулы для z интервала, а затем с помощью функций \n",
    "`from statsmodels.stats.weightstats import _zconfint_generic`. Сравните результаты.\n",
    "\n",
    "\n",
    "Ссылка на данные: https://drive.google.com/file/d/1X_drKqoarnU2Sz2har7uSCsgyhh8Xtz8/view?usp=sharing"
   ]
  },
  {
   "cell_type": "code",
   "execution_count": 216,
   "metadata": {
    "id": "56V0za8GfxeL",
    "scrolled": false
   },
   "outputs": [],
   "source": [
    "df = pd.read_csv('https://drive.google.com/uc?export=download&id=1X_drKqoarnU2Sz2har7uSCsgyhh8Xtz8')"
   ]
  },
  {
   "cell_type": "code",
   "execution_count": 217,
   "metadata": {
    "scrolled": true
   },
   "outputs": [
    {
     "data": {
      "text/html": [
       "<div>\n",
       "<style scoped>\n",
       "    .dataframe tbody tr th:only-of-type {\n",
       "        vertical-align: middle;\n",
       "    }\n",
       "\n",
       "    .dataframe tbody tr th {\n",
       "        vertical-align: top;\n",
       "    }\n",
       "\n",
       "    .dataframe thead th {\n",
       "        text-align: right;\n",
       "    }\n",
       "</style>\n",
       "<table border=\"1\" class=\"dataframe\">\n",
       "  <thead>\n",
       "    <tr style=\"text-align: right;\">\n",
       "      <th></th>\n",
       "      <th>account_length</th>\n",
       "      <th>area_code</th>\n",
       "      <th>number_vmail_messages</th>\n",
       "      <th>total_day_minutes</th>\n",
       "      <th>total_day_calls</th>\n",
       "      <th>total_day_charge</th>\n",
       "      <th>total_eve_minutes</th>\n",
       "      <th>total_eve_calls</th>\n",
       "      <th>total_eve_charge</th>\n",
       "      <th>total_night_minutes</th>\n",
       "      <th>total_night_calls</th>\n",
       "      <th>total_night_charge</th>\n",
       "      <th>total_intl_minutes</th>\n",
       "      <th>total_intl_calls</th>\n",
       "      <th>total_intl_charge</th>\n",
       "      <th>customer_service_calls</th>\n",
       "    </tr>\n",
       "  </thead>\n",
       "  <tbody>\n",
       "    <tr>\n",
       "      <th>count</th>\n",
       "      <td>3333.000000</td>\n",
       "      <td>3333.000000</td>\n",
       "      <td>3333.000000</td>\n",
       "      <td>3333.000000</td>\n",
       "      <td>3333.000000</td>\n",
       "      <td>3333.000000</td>\n",
       "      <td>3333.000000</td>\n",
       "      <td>3333.000000</td>\n",
       "      <td>3333.000000</td>\n",
       "      <td>3333.000000</td>\n",
       "      <td>3333.000000</td>\n",
       "      <td>3333.000000</td>\n",
       "      <td>3333.000000</td>\n",
       "      <td>3333.000000</td>\n",
       "      <td>3333.000000</td>\n",
       "      <td>3333.000000</td>\n",
       "    </tr>\n",
       "    <tr>\n",
       "      <th>mean</th>\n",
       "      <td>101.064806</td>\n",
       "      <td>437.182418</td>\n",
       "      <td>8.099010</td>\n",
       "      <td>179.775098</td>\n",
       "      <td>100.435644</td>\n",
       "      <td>30.562307</td>\n",
       "      <td>200.980348</td>\n",
       "      <td>100.114311</td>\n",
       "      <td>17.083540</td>\n",
       "      <td>200.872037</td>\n",
       "      <td>100.107711</td>\n",
       "      <td>9.039325</td>\n",
       "      <td>10.237294</td>\n",
       "      <td>4.479448</td>\n",
       "      <td>2.764581</td>\n",
       "      <td>1.562856</td>\n",
       "    </tr>\n",
       "    <tr>\n",
       "      <th>std</th>\n",
       "      <td>39.822106</td>\n",
       "      <td>42.371290</td>\n",
       "      <td>13.688365</td>\n",
       "      <td>54.467389</td>\n",
       "      <td>20.069084</td>\n",
       "      <td>9.259435</td>\n",
       "      <td>50.713844</td>\n",
       "      <td>19.922625</td>\n",
       "      <td>4.310668</td>\n",
       "      <td>50.573847</td>\n",
       "      <td>19.568609</td>\n",
       "      <td>2.275873</td>\n",
       "      <td>2.791840</td>\n",
       "      <td>2.461214</td>\n",
       "      <td>0.753773</td>\n",
       "      <td>1.315491</td>\n",
       "    </tr>\n",
       "    <tr>\n",
       "      <th>min</th>\n",
       "      <td>1.000000</td>\n",
       "      <td>408.000000</td>\n",
       "      <td>0.000000</td>\n",
       "      <td>0.000000</td>\n",
       "      <td>0.000000</td>\n",
       "      <td>0.000000</td>\n",
       "      <td>0.000000</td>\n",
       "      <td>0.000000</td>\n",
       "      <td>0.000000</td>\n",
       "      <td>23.200000</td>\n",
       "      <td>33.000000</td>\n",
       "      <td>1.040000</td>\n",
       "      <td>0.000000</td>\n",
       "      <td>0.000000</td>\n",
       "      <td>0.000000</td>\n",
       "      <td>0.000000</td>\n",
       "    </tr>\n",
       "    <tr>\n",
       "      <th>25%</th>\n",
       "      <td>74.000000</td>\n",
       "      <td>408.000000</td>\n",
       "      <td>0.000000</td>\n",
       "      <td>143.700000</td>\n",
       "      <td>87.000000</td>\n",
       "      <td>24.430000</td>\n",
       "      <td>166.600000</td>\n",
       "      <td>87.000000</td>\n",
       "      <td>14.160000</td>\n",
       "      <td>167.000000</td>\n",
       "      <td>87.000000</td>\n",
       "      <td>7.520000</td>\n",
       "      <td>8.500000</td>\n",
       "      <td>3.000000</td>\n",
       "      <td>2.300000</td>\n",
       "      <td>1.000000</td>\n",
       "    </tr>\n",
       "    <tr>\n",
       "      <th>50%</th>\n",
       "      <td>101.000000</td>\n",
       "      <td>415.000000</td>\n",
       "      <td>0.000000</td>\n",
       "      <td>179.400000</td>\n",
       "      <td>101.000000</td>\n",
       "      <td>30.500000</td>\n",
       "      <td>201.400000</td>\n",
       "      <td>100.000000</td>\n",
       "      <td>17.120000</td>\n",
       "      <td>201.200000</td>\n",
       "      <td>100.000000</td>\n",
       "      <td>9.050000</td>\n",
       "      <td>10.300000</td>\n",
       "      <td>4.000000</td>\n",
       "      <td>2.780000</td>\n",
       "      <td>1.000000</td>\n",
       "    </tr>\n",
       "    <tr>\n",
       "      <th>75%</th>\n",
       "      <td>127.000000</td>\n",
       "      <td>510.000000</td>\n",
       "      <td>20.000000</td>\n",
       "      <td>216.400000</td>\n",
       "      <td>114.000000</td>\n",
       "      <td>36.790000</td>\n",
       "      <td>235.300000</td>\n",
       "      <td>114.000000</td>\n",
       "      <td>20.000000</td>\n",
       "      <td>235.300000</td>\n",
       "      <td>113.000000</td>\n",
       "      <td>10.590000</td>\n",
       "      <td>12.100000</td>\n",
       "      <td>6.000000</td>\n",
       "      <td>3.270000</td>\n",
       "      <td>2.000000</td>\n",
       "    </tr>\n",
       "    <tr>\n",
       "      <th>max</th>\n",
       "      <td>243.000000</td>\n",
       "      <td>510.000000</td>\n",
       "      <td>51.000000</td>\n",
       "      <td>350.800000</td>\n",
       "      <td>165.000000</td>\n",
       "      <td>59.640000</td>\n",
       "      <td>363.700000</td>\n",
       "      <td>170.000000</td>\n",
       "      <td>30.910000</td>\n",
       "      <td>395.000000</td>\n",
       "      <td>175.000000</td>\n",
       "      <td>17.770000</td>\n",
       "      <td>20.000000</td>\n",
       "      <td>20.000000</td>\n",
       "      <td>5.400000</td>\n",
       "      <td>9.000000</td>\n",
       "    </tr>\n",
       "  </tbody>\n",
       "</table>\n",
       "</div>"
      ],
      "text/plain": [
       "       account_length    area_code  number_vmail_messages  total_day_minutes  \\\n",
       "count     3333.000000  3333.000000            3333.000000        3333.000000   \n",
       "mean       101.064806   437.182418               8.099010         179.775098   \n",
       "std         39.822106    42.371290              13.688365          54.467389   \n",
       "min          1.000000   408.000000               0.000000           0.000000   \n",
       "25%         74.000000   408.000000               0.000000         143.700000   \n",
       "50%        101.000000   415.000000               0.000000         179.400000   \n",
       "75%        127.000000   510.000000              20.000000         216.400000   \n",
       "max        243.000000   510.000000              51.000000         350.800000   \n",
       "\n",
       "       total_day_calls  total_day_charge  total_eve_minutes  total_eve_calls  \\\n",
       "count      3333.000000       3333.000000        3333.000000      3333.000000   \n",
       "mean        100.435644         30.562307         200.980348       100.114311   \n",
       "std          20.069084          9.259435          50.713844        19.922625   \n",
       "min           0.000000          0.000000           0.000000         0.000000   \n",
       "25%          87.000000         24.430000         166.600000        87.000000   \n",
       "50%         101.000000         30.500000         201.400000       100.000000   \n",
       "75%         114.000000         36.790000         235.300000       114.000000   \n",
       "max         165.000000         59.640000         363.700000       170.000000   \n",
       "\n",
       "       total_eve_charge  total_night_minutes  total_night_calls  \\\n",
       "count       3333.000000          3333.000000        3333.000000   \n",
       "mean          17.083540           200.872037         100.107711   \n",
       "std            4.310668            50.573847          19.568609   \n",
       "min            0.000000            23.200000          33.000000   \n",
       "25%           14.160000           167.000000          87.000000   \n",
       "50%           17.120000           201.200000         100.000000   \n",
       "75%           20.000000           235.300000         113.000000   \n",
       "max           30.910000           395.000000         175.000000   \n",
       "\n",
       "       total_night_charge  total_intl_minutes  total_intl_calls  \\\n",
       "count         3333.000000         3333.000000       3333.000000   \n",
       "mean             9.039325           10.237294          4.479448   \n",
       "std              2.275873            2.791840          2.461214   \n",
       "min              1.040000            0.000000          0.000000   \n",
       "25%              7.520000            8.500000          3.000000   \n",
       "50%              9.050000           10.300000          4.000000   \n",
       "75%             10.590000           12.100000          6.000000   \n",
       "max             17.770000           20.000000         20.000000   \n",
       "\n",
       "       total_intl_charge  customer_service_calls  \n",
       "count        3333.000000             3333.000000  \n",
       "mean            2.764581                1.562856  \n",
       "std             0.753773                1.315491  \n",
       "min             0.000000                0.000000  \n",
       "25%             2.300000                1.000000  \n",
       "50%             2.780000                1.000000  \n",
       "75%             3.270000                2.000000  \n",
       "max             5.400000                9.000000  "
      ]
     },
     "execution_count": 217,
     "metadata": {},
     "output_type": "execute_result"
    }
   ],
   "source": [
    "df.columns = df.columns.str.replace(' ', '_')\n",
    "df.describe()"
   ]
  },
  {
   "cell_type": "code",
   "execution_count": 218,
   "metadata": {
    "scrolled": true
   },
   "outputs": [
    {
     "data": {
      "image/png": "[encoded data removed]",
      "text/plain": [
       "<Figure size 432x288 with 1 Axes>"
      ]
     },
     "metadata": {
      "needs_background": "light"
     },
     "output_type": "display_data"
    }
   ],
   "source": [
    "df.groupby('churn')['total_day_calls'].hist(density=True, alpha=0.5, bins=50);"
   ]
  },
  {
   "cell_type": "code",
   "execution_count": 224,
   "metadata": {
    "scrolled": true
   },
   "outputs": [
    {
     "data": {
      "text/html": [
       "<div>\n",
       "<style scoped>\n",
       "    .dataframe tbody tr th:only-of-type {\n",
       "        vertical-align: middle;\n",
       "    }\n",
       "\n",
       "    .dataframe tbody tr th {\n",
       "        vertical-align: top;\n",
       "    }\n",
       "\n",
       "    .dataframe thead tr th {\n",
       "        text-align: left;\n",
       "    }\n",
       "\n",
       "    .dataframe thead tr:last-of-type th {\n",
       "        text-align: right;\n",
       "    }\n",
       "</style>\n",
       "<table border=\"1\" class=\"dataframe\">\n",
       "  <thead>\n",
       "    <tr>\n",
       "      <th></th>\n",
       "      <th colspan=\"3\" halign=\"left\">total_day_calls</th>\n",
       "    </tr>\n",
       "    <tr>\n",
       "      <th></th>\n",
       "      <th>std</th>\n",
       "      <th>mean</th>\n",
       "      <th>count</th>\n",
       "    </tr>\n",
       "    <tr>\n",
       "      <th>churn</th>\n",
       "      <th></th>\n",
       "      <th></th>\n",
       "      <th></th>\n",
       "    </tr>\n",
       "  </thead>\n",
       "  <tbody>\n",
       "    <tr>\n",
       "      <th>False</th>\n",
       "      <td>19.801157</td>\n",
       "      <td>100.283158</td>\n",
       "      <td>2850</td>\n",
       "    </tr>\n",
       "    <tr>\n",
       "      <th>True</th>\n",
       "      <td>21.582307</td>\n",
       "      <td>101.335404</td>\n",
       "      <td>483</td>\n",
       "    </tr>\n",
       "  </tbody>\n",
       "</table>\n",
       "</div>"
      ],
      "text/plain": [
       "      total_day_calls                  \n",
       "                  std        mean count\n",
       "churn                                  \n",
       "False       19.801157  100.283158  2850\n",
       "True        21.582307  101.335404   483"
      ]
     },
     "execution_count": 224,
     "metadata": {},
     "output_type": "execute_result"
    }
   ],
   "source": [
    "from functools import partial\n",
    "grouped_df = df.groupby('churn').agg({'total_day_calls': [partial(np.std, ddof=1), 'mean', 'count']})\n",
    "grouped_df"
   ]
  },
  {
   "cell_type": "code",
   "execution_count": 264,
   "metadata": {
    "scrolled": false
   },
   "outputs": [
    {
     "data": {
      "text/html": [
       "<div>\n",
       "<style scoped>\n",
       "    .dataframe tbody tr th:only-of-type {\n",
       "        vertical-align: middle;\n",
       "    }\n",
       "\n",
       "    .dataframe tbody tr th {\n",
       "        vertical-align: top;\n",
       "    }\n",
       "\n",
       "    .dataframe thead tr th {\n",
       "        text-align: left;\n",
       "    }\n",
       "\n",
       "    .dataframe thead tr:last-of-type th {\n",
       "        text-align: right;\n",
       "    }\n",
       "</style>\n",
       "<table border=\"1\" class=\"dataframe\">\n",
       "  <thead>\n",
       "    <tr>\n",
       "      <th></th>\n",
       "      <th colspan=\"3\" halign=\"left\">total_day_calls</th>\n",
       "      <th>confidence_interval</th>\n",
       "      <th>_zconfint_generic</th>\n",
       "    </tr>\n",
       "    <tr>\n",
       "      <th></th>\n",
       "      <th>std</th>\n",
       "      <th>mean</th>\n",
       "      <th>count</th>\n",
       "      <th></th>\n",
       "      <th></th>\n",
       "    </tr>\n",
       "    <tr>\n",
       "      <th>churn</th>\n",
       "      <th></th>\n",
       "      <th></th>\n",
       "      <th></th>\n",
       "      <th></th>\n",
       "      <th></th>\n",
       "    </tr>\n",
       "  </thead>\n",
       "  <tbody>\n",
       "    <tr>\n",
       "      <th>False</th>\n",
       "      <td>19.801157</td>\n",
       "      <td>100.283158</td>\n",
       "      <td>2850</td>\n",
       "      <td>(99.54133858857833, 101.02497720089536)</td>\n",
       "      <td>(99.04149114274126, 99.98204678079553)</td>\n",
       "    </tr>\n",
       "    <tr>\n",
       "      <th>True</th>\n",
       "      <td>21.582307</td>\n",
       "      <td>101.335404</td>\n",
       "      <td>483</td>\n",
       "      <td>(99.37134576363385, 103.2994616897823)</td>\n",
       "      <td>(101.52482464673243, 102.68876067262063)</td>\n",
       "    </tr>\n",
       "  </tbody>\n",
       "</table>\n",
       "</div>"
      ],
      "text/plain": [
       "      total_day_calls                    \\\n",
       "                  std        mean count   \n",
       "churn                                     \n",
       "False       19.801157  100.283158  2850   \n",
       "True        21.582307  101.335404   483   \n",
       "\n",
       "                           confidence_interval  \\\n",
       "                                                 \n",
       "churn                                            \n",
       "False  (99.54133858857833, 101.02497720089536)   \n",
       "True    (99.37134576363385, 103.2994616897823)   \n",
       "\n",
       "                              _zconfint_generic  \n",
       "                                                 \n",
       "churn                                            \n",
       "False    (99.04149114274126, 99.98204678079553)  \n",
       "True   (101.52482464673243, 102.68876067262063)  "
      ]
     },
     "execution_count": 264,
     "metadata": {},
     "output_type": "execute_result"
    }
   ],
   "source": [
    "def calc_confidence_interval(row):\n",
    "    row = row.total_day_calls\n",
    "    s = 2 * row['std'] / np.sqrt(row['count'])\n",
    "    return row['mean'] - s, row['mean'] + s\n",
    "\n",
    "df_ = grouped_df['total_day_calls']\n",
    "grouped_df['confidence_interval'] = grouped_df.apply(calc_confidence_interval, axis=1)\n",
    "grouped_df"
   ]
  },
  {
   "cell_type": "code",
   "execution_count": 265,
   "metadata": {
    "scrolled": true
   },
   "outputs": [],
   "source": [
    "from statsmodels.stats.weightstats import _zconfint_generic"
   ]
  },
  {
   "cell_type": "code",
   "execution_count": 278,
   "metadata": {
    "scrolled": true
   },
   "outputs": [],
   "source": [
    "confid_zconf_0 = _zconfint_generic(mean=df_['mean'].iloc[0], std_mean=df_['std'].iloc[0], alpha=0.95, alternative='two-sided')"
   ]
  },
  {
   "cell_type": "code",
   "execution_count": 279,
   "metadata": {
    "scrolled": true
   },
   "outputs": [],
   "source": [
    "confid_zconf_1 = _zconfint_generic(mean=df_['mean'].iloc[1], std_mean=df_['std'].iloc[1], alpha=0.95, alternative='two-sided')"
   ]
  },
  {
   "cell_type": "code",
   "execution_count": 280,
   "metadata": {
    "scrolled": false
   },
   "outputs": [],
   "source": [
    "grouped_df['_zconfint_generic'] = [confid_zconf_0, confid_zconf_1]"
   ]
  },
  {
   "cell_type": "code",
   "execution_count": 281,
   "metadata": {
    "scrolled": false
   },
   "outputs": [
    {
     "data": {
      "text/html": [
       "<div>\n",
       "<style scoped>\n",
       "    .dataframe tbody tr th:only-of-type {\n",
       "        vertical-align: middle;\n",
       "    }\n",
       "\n",
       "    .dataframe tbody tr th {\n",
       "        vertical-align: top;\n",
       "    }\n",
       "\n",
       "    .dataframe thead tr th {\n",
       "        text-align: left;\n",
       "    }\n",
       "\n",
       "    .dataframe thead tr:last-of-type th {\n",
       "        text-align: right;\n",
       "    }\n",
       "</style>\n",
       "<table border=\"1\" class=\"dataframe\">\n",
       "  <thead>\n",
       "    <tr>\n",
       "      <th></th>\n",
       "      <th colspan=\"3\" halign=\"left\">total_day_calls</th>\n",
       "      <th>confidence_interval</th>\n",
       "      <th>_zconfint_generic</th>\n",
       "    </tr>\n",
       "    <tr>\n",
       "      <th></th>\n",
       "      <th>std</th>\n",
       "      <th>mean</th>\n",
       "      <th>count</th>\n",
       "      <th></th>\n",
       "      <th></th>\n",
       "    </tr>\n",
       "    <tr>\n",
       "      <th>churn</th>\n",
       "      <th></th>\n",
       "      <th></th>\n",
       "      <th></th>\n",
       "      <th></th>\n",
       "      <th></th>\n",
       "    </tr>\n",
       "  </thead>\n",
       "  <tbody>\n",
       "    <tr>\n",
       "      <th>False</th>\n",
       "      <td>19.801157</td>\n",
       "      <td>100.283158</td>\n",
       "      <td>2850</td>\n",
       "      <td>(99.54133858857833, 101.02497720089536)</td>\n",
       "      <td>(99.04149114274126, 101.52482464673243)</td>\n",
       "    </tr>\n",
       "    <tr>\n",
       "      <th>True</th>\n",
       "      <td>21.582307</td>\n",
       "      <td>101.335404</td>\n",
       "      <td>483</td>\n",
       "      <td>(99.37134576363385, 103.2994616897823)</td>\n",
       "      <td>(99.98204678079553, 102.68876067262063)</td>\n",
       "    </tr>\n",
       "  </tbody>\n",
       "</table>\n",
       "</div>"
      ],
      "text/plain": [
       "      total_day_calls                    \\\n",
       "                  std        mean count   \n",
       "churn                                     \n",
       "False       19.801157  100.283158  2850   \n",
       "True        21.582307  101.335404   483   \n",
       "\n",
       "                           confidence_interval  \\\n",
       "                                                 \n",
       "churn                                            \n",
       "False  (99.54133858857833, 101.02497720089536)   \n",
       "True    (99.37134576363385, 103.2994616897823)   \n",
       "\n",
       "                             _zconfint_generic  \n",
       "                                                \n",
       "churn                                           \n",
       "False  (99.04149114274126, 101.52482464673243)  \n",
       "True   (99.98204678079553, 102.68876067262063)  "
      ]
     },
     "execution_count": 281,
     "metadata": {},
     "output_type": "execute_result"
    }
   ],
   "source": [
    "grouped_df"
   ]
  }
 ],
 "metadata": {
  "colab": {
   "collapsed_sections": [],
   "name": "Практика к занятию 12.ipynb",
   "provenance": []
  },
  "kernelspec": {
   "display_name": "Python 3 (ipykernel)",
   "language": "python",
   "name": "python3"
  },
  "language_info": {
   "codemirror_mode": {
    "name": "ipython",
    "version": 3
   },
   "file_extension": ".py",
   "mimetype": "text/x-python",
   "name": "python",
   "nbconvert_exporter": "python",
   "pygments_lexer": "ipython3",
   "version": "3.9.4"
  }
 },
 "nbformat": 4,
 "nbformat_minor": 1
}
